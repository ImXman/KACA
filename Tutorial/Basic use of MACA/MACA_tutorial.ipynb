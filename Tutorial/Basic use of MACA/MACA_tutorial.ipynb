{
 "cells": [
  {
   "cell_type": "markdown",
   "metadata": {},
   "source": [
    "# MACA tutorial"
   ]
  },
  {
   "cell_type": "code",
   "execution_count": 1,
   "metadata": {},
   "outputs": [],
   "source": [
    "##load all packages\n",
    "import anndata\n",
    "import collections\n",
    "import numpy as np\n",
    "import pandas as pd\n",
    "import scanpy as sc\n",
    "import MACA as maca\n",
    "\n",
    "import warnings\n",
    "warnings.filterwarnings(\"ignore\")"
   ]
  },
  {
   "cell_type": "code",
   "execution_count": 2,
   "metadata": {},
   "outputs": [],
   "source": [
    "##Baron Human pancreas data as example here\n",
    "##data available at https://doi.org/10.5281/zenodo.3357167\n",
    "data_file   = \"Documents/scRNAseq_Benchmark_datasets/Intra-dataset/Pancreatic_data/Baron_Human/Filtered_Baron_HumanPancreas_data.csv\"\n",
    "data = pd.read_csv(data_file,header=0,index_col=0)\n",
    "\n",
    "##standard preprocessing of single cell expression data\n",
    "adata= anndata.AnnData(X=data)\n",
    "sc.pp.normalize_total(adata, target_sum=1e4)\n",
    "sc.pp.log1p(adata)"
   ]
  },
  {
   "cell_type": "code",
   "execution_count": 3,
   "metadata": {},
   "outputs": [
    {
     "data": {
      "text/plain": [
       "3903"
      ]
     },
     "execution_count": 3,
     "metadata": {},
     "output_type": "execute_result"
    }
   ],
   "source": [
    "##Use PanglaoDB as marker database\n",
    "##PanglaoDB available at https://panglaodb.se/index.html\n",
    "pg_df = pd.read_table(\"PanglaoDB_markers_27_Mar_2020.tsv\")\n",
    "##remove mouse specific genes\n",
    "pg_df = pg_df[pg_df['species']!='Mm']\n",
    "cell_markers = {}##cell_marker is dictionary that contains names of cell types and their marker genes\n",
    "marker_list = []\n",
    "for i in list(set(pg_df[\"cell type\"].values.tolist())):\n",
    "    genes = pg_df[pg_df[\"cell type\"]==i]['official gene symbol'].values.tolist()\n",
    "    ##only use cell type with at least 5 genes and less than 300 genes\n",
    "    if len(genes)>=5 and len(genes)<=300:\n",
    "        cell_markers[i]=genes\n",
    "        marker_list+= genes\n",
    "marker_list = list(set(marker_list))\n",
    "marker_list = [i for i in marker_list if i in adata.var.index]\n",
    "len(marker_list)"
   ]
  },
  {
   "cell_type": "code",
   "execution_count": 4,
   "metadata": {},
   "outputs": [
    {
     "name": "stderr",
     "output_type": "stream",
     "text": [
      "Trying to set attribute `.obs` of view, copying.\n"
     ]
    },
    {
     "name": "stdout",
     "output_type": "stream",
     "text": [
      "(8569, 167)\n",
      "(8569, 167)\n"
     ]
    }
   ],
   "source": [
    "ad = adata.copy()\n",
    "ad = ad[:,marker_list]\n",
    "\n",
    "##run MACA\n",
    "ad, annotation = maca.singleMACA(ad=ad, cell_markers=cell_markers,\n",
    "                                 res=[1,1.5,2],n_neis=[3,5,10])\n",
    "##we define louvain clustering resolution 1, 1.5 and 2; \n",
    "##number of neighbors to define the kNN is 3,5 and 10 separately.\n",
    "##MACA will get 9 clustering results, using this set of parameteres.\n",
    "##The final annotation is ensembled via voting."
   ]
  },
  {
   "cell_type": "code",
   "execution_count": 5,
   "metadata": {},
   "outputs": [
    {
     "name": "stderr",
     "output_type": "stream",
     "text": [
      "... storing 'Mapped' as categorical\n",
      "... storing 'Annotation' as categorical\n"
     ]
    },
    {
     "data": {
      "image/png": "[encoded data removed]",
      "text/plain": [
       "<Figure size 432x288 with 1 Axes>"
      ]
     },
     "metadata": {},
     "output_type": "display_data"
    }
   ],
   "source": [
    "##visualization\n",
    "ad.obs['Annotation']=np.array(annotation)\n",
    "sc.pl.umap(ad, color='Annotation', legend_loc='on data', title='', frameon=False)"
   ]
  },
  {
   "cell_type": "code",
   "execution_count": 6,
   "metadata": {},
   "outputs": [
    {
     "name": "stdout",
     "output_type": "stream",
     "text": [
      "0.9\n",
      "0.88\n"
     ]
    }
   ],
   "source": [
    "##compare to author's annotation\n",
    "from sklearn.metrics.cluster import adjusted_rand_score\n",
    "from sklearn.metrics import normalized_mutual_info_score\n",
    "\n",
    "y = pd.read_csv ('Documents/scRNAseq_Benchmark_datasets/Intra-dataset/Pancreatic_data/Baron_Human/Labels.csv',header=0,index_col=False)\n",
    "y = y['x'].values\n",
    "\n",
    "##ARI and NMI\n",
    "ari = adjusted_rand_score(y,annotation)\n",
    "print(round(ari,2))\n",
    "nmi = normalized_mutual_info_score(y,annotation)\n",
    "print(round(nmi,2))"
   ]
  }
 ],
 "metadata": {
  "kernelspec": {
   "display_name": "Python 3",
   "language": "python",
   "name": "python3"
  },
  "language_info": {
   "codemirror_mode": {
    "name": "ipython",
    "version": 3
   },
   "file_extension": ".py",
   "mimetype": "text/x-python",
   "name": "python",
   "nbconvert_exporter": "python",
   "pygments_lexer": "ipython3",
   "version": "3.8.5"
  }
 },
 "nbformat": 4,
 "nbformat_minor": 4
}
